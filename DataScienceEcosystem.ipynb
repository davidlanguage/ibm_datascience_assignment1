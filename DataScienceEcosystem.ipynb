{
 "cells": [
  {
   "cell_type": "markdown",
   "id": "31e17f50-41a7-4624-9e37-d9e7e9cb6909",
   "metadata": {},
   "source": [
    "# Data Science Tools and Ecosystem"
   ]
  },
  {
   "cell_type": "markdown",
   "id": "08512fae-483a-4ca8-8f5b-2d2a24a9c2d3",
   "metadata": {},
   "source": [
    "In this notebook, I am doing my first assignment about data science. *I am so excited!* This is SECTION 3. Below this, find SECTION 10"
   ]
  },
  {
   "cell_type": "markdown",
   "id": "64617ef2-413f-406c-a693-e9a80a3b25bf",
   "metadata": {},
   "source": [
    "**Objectives:**\n",
    "\n",
    "- Popular Data Science languages\n",
    "- Data Science libraries\n",
    "- Basic Understanding of Machine Learning Models\n",
    "- AI and Machine Learning in Data Science"
   ]
  },
  {
   "cell_type": "markdown",
   "id": "57b8a118-47a9-4125-a927-e66a08c228e5",
   "metadata": {},
   "source": [
    "#### Do you want to become a Data Science master? Here you have a list of programming language to check out!"
   ]
  },
  {
   "cell_type": "markdown",
   "id": "f10a702f-80bc-45e9-8183-3d1bb111befe",
   "metadata": {},
   "source": [
    "1. Python\n",
    "2. R\n",
    "3. Java\n",
    "4. Julia\n",
    "5. JavaScript"
   ]
  },
  {
   "cell_type": "markdown",
   "id": "efe4a0e1-772d-4658-8c82-6befbd39afc1",
   "metadata": {},
   "source": [
    "#### Of course, programming languages are not enough. Here are some libraries all Data Scientist must know:"
   ]
  },
  {
   "cell_type": "markdown",
   "id": "1c18c5d4-35b8-4cf1-9ab5-4bb24aed2f38",
   "metadata": {},
   "source": [
    "1. Numpy\n",
    "2. Pandas\n",
    "3. Matplotlib\n",
    "4. Plotly"
   ]
  },
  {
   "cell_type": "markdown",
   "id": "9807c55d-3f47-4d41-93c0-4df26251242b",
   "metadata": {},
   "source": [
    "| Create a markdown cell with a table of Data Science tools |\n",
    "-----\n",
    "| Jupyter Notebook |\n",
    "| RStudio |\n",
    "| Apache Hadoop |"
   ]
  },
  {
   "cell_type": "markdown",
   "id": "8538591b-b0f1-4d34-a900-1ec33e5d61b7",
   "metadata": {},
   "source": [
    "### Below are a few examples of evaluating arithmetic expressions in Python.\n",
    "\n",
    "- Addition (+)\n",
    "- Subtraction (-)\n",
    "- Multiplication (*)\n",
    "- Division (/)"
   ]
  },
  {
   "cell_type": "code",
   "execution_count": 16,
   "id": "42b359e0-4d14-4bca-a016-84c24e888b0f",
   "metadata": {},
   "outputs": [
    {
     "data": {
      "text/plain": [
       "17"
      ]
     },
     "execution_count": 16,
     "metadata": {},
     "output_type": "execute_result"
    }
   ],
   "source": [
    "#This a simple arithmetic expression to mutiply then add integers\n",
    "(3*4)+5"
   ]
  },
  {
   "cell_type": "code",
   "execution_count": 18,
   "id": "c6f05b92-89f0-461a-a1cb-138796b0a09a",
   "metadata": {},
   "outputs": [
    {
     "data": {
      "text/plain": [
       "3.3333333333333335"
      ]
     },
     "execution_count": 18,
     "metadata": {},
     "output_type": "execute_result"
    }
   ],
   "source": [
    "#Hours to minutes simple converter: hours/60\n",
    "200/60"
   ]
  },
  {
   "cell_type": "markdown",
   "id": "052ccee9-090b-4240-9bf9-85b801cd6184",
   "metadata": {},
   "source": [
    "# Author\n",
    "\n",
    "David Paradela Rodríguez"
   ]
  },
  {
   "cell_type": "code",
   "execution_count": null,
   "id": "e63d63ff-d42b-4ea3-a617-99d26c0f0413",
   "metadata": {},
   "outputs": [],
   "source": []
  }
 ],
 "metadata": {
  "kernelspec": {
   "display_name": "Python 3 (ipykernel)",
   "language": "python",
   "name": "python3"
  },
  "language_info": {
   "codemirror_mode": {
    "name": "ipython",
    "version": 3
   },
   "file_extension": ".py",
   "mimetype": "text/x-python",
   "name": "python",
   "nbconvert_exporter": "python",
   "pygments_lexer": "ipython3",
   "version": "3.12.4"
  }
 },
 "nbformat": 4,
 "nbformat_minor": 5
}
